{
 "cells": [
  {
   "cell_type": "code",
   "execution_count": 1,
   "id": "2c9a550d",
   "metadata": {
    "_cell_guid": "b1076dfc-b9ad-4769-8c92-a6c4dae69d19",
    "_uuid": "8f2839f25d086af736a60e9eeb907d3b93b6e0e5",
    "execution": {
     "iopub.execute_input": "2024-05-02T06:36:36.934545Z",
     "iopub.status.busy": "2024-05-02T06:36:36.934184Z",
     "iopub.status.idle": "2024-05-02T06:36:38.876755Z",
     "shell.execute_reply": "2024-05-02T06:36:38.875868Z"
    },
    "papermill": {
     "duration": 1.949378,
     "end_time": "2024-05-02T06:36:38.878955",
     "exception": false,
     "start_time": "2024-05-02T06:36:36.929577",
     "status": "completed"
    },
    "tags": []
   },
   "outputs": [],
   "source": [
    "import pandas as pd\n",
    "import numpy as np\n",
    "import re\n",
    "import seaborn as sns\n",
    "import matplotlib.pyplot as plt\n",
    "import warnings\n",
    "warnings.simplefilter(\"ignore\")"
   ]
  },
  {
   "cell_type": "code",
   "execution_count": 2,
   "id": "d7ba250f",
   "metadata": {
    "execution": {
     "iopub.execute_input": "2024-05-02T06:36:38.886211Z",
     "iopub.status.busy": "2024-05-02T06:36:38.885703Z",
     "iopub.status.idle": "2024-05-02T06:36:38.960171Z",
     "shell.execute_reply": "2024-05-02T06:36:38.959277Z"
    },
    "papermill": {
     "duration": 0.080332,
     "end_time": "2024-05-02T06:36:38.962314",
     "exception": false,
     "start_time": "2024-05-02T06:36:38.881982",
     "status": "completed"
    },
    "tags": []
   },
   "outputs": [],
   "source": [
    "# Loading the dataset\n",
    "data = pd.read_csv(\"/kaggle/input/language-detection/Language Detection.csv\")"
   ]
  },
  {
   "cell_type": "code",
   "execution_count": 3,
   "id": "6ec37db9",
   "metadata": {
    "execution": {
     "iopub.execute_input": "2024-05-02T06:36:38.969117Z",
     "iopub.status.busy": "2024-05-02T06:36:38.968778Z",
     "iopub.status.idle": "2024-05-02T06:36:38.987760Z",
     "shell.execute_reply": "2024-05-02T06:36:38.986639Z"
    },
    "papermill": {
     "duration": 0.024542,
     "end_time": "2024-05-02T06:36:38.989739",
     "exception": false,
     "start_time": "2024-05-02T06:36:38.965197",
     "status": "completed"
    },
    "tags": []
   },
   "outputs": [
    {
     "data": {
      "text/plain": [
       "Language\n",
       "English       1385\n",
       "French        1014\n",
       "Spanish        819\n",
       "Portugeese     739\n",
       "Italian        698\n",
       "Russian        692\n",
       "Sweedish       676\n",
       "Malayalam      594\n",
       "Dutch          546\n",
       "Arabic         536\n",
       "Turkish        474\n",
       "German         470\n",
       "Tamil          469\n",
       "Danish         428\n",
       "Kannada        369\n",
       "Greek          365\n",
       "Hindi           63\n",
       "Name: count, dtype: int64"
      ]
     },
     "execution_count": 3,
     "metadata": {},
     "output_type": "execute_result"
    }
   ],
   "source": [
    "# value count for each language\n",
    "data[\"Language\"].value_counts()"
   ]
  },
  {
   "cell_type": "code",
   "execution_count": 4,
   "id": "f7235f98",
   "metadata": {
    "execution": {
     "iopub.execute_input": "2024-05-02T06:36:38.996660Z",
     "iopub.status.busy": "2024-05-02T06:36:38.996368Z",
     "iopub.status.idle": "2024-05-02T06:36:39.000807Z",
     "shell.execute_reply": "2024-05-02T06:36:38.999937Z"
    },
    "papermill": {
     "duration": 0.009798,
     "end_time": "2024-05-02T06:36:39.002517",
     "exception": false,
     "start_time": "2024-05-02T06:36:38.992719",
     "status": "completed"
    },
    "tags": []
   },
   "outputs": [],
   "source": [
    "\n",
    "# separating the independent and dependant features\n",
    "X = data[\"Text\"]\n",
    "y = data[\"Language\"]"
   ]
  },
  {
   "cell_type": "code",
   "execution_count": 5,
   "id": "8777eecb",
   "metadata": {
    "execution": {
     "iopub.execute_input": "2024-05-02T06:36:39.009606Z",
     "iopub.status.busy": "2024-05-02T06:36:39.009304Z",
     "iopub.status.idle": "2024-05-02T06:36:39.275708Z",
     "shell.execute_reply": "2024-05-02T06:36:39.274744Z"
    },
    "papermill": {
     "duration": 0.272507,
     "end_time": "2024-05-02T06:36:39.278072",
     "exception": false,
     "start_time": "2024-05-02T06:36:39.005565",
     "status": "completed"
    },
    "tags": []
   },
   "outputs": [],
   "source": [
    "\n",
    "# converting categorical variables to numerical\n",
    "from sklearn.preprocessing import LabelEncoder\n",
    "le = LabelEncoder()\n",
    "y = le.fit_transform(y)\n",
    "# creating a list for appending the preprocessed text\n",
    "data_list = []\n",
    "# iterating through all the text\n",
    "for text in X:\n",
    "    # removing the symbols and numbers\n",
    "    text = re.sub(r'[!@#$(),n\"%^*?:;~`0-9]', ' ', text)\n",
    "    text = re.sub(r'[[]]', ' ', text)\n",
    "    # converting the text to lower case\n",
    "    text = text.lower()\n",
    "    # appending to data_list\n",
    "    data_list.append(text)"
   ]
  },
  {
   "cell_type": "code",
   "execution_count": 6,
   "id": "043f4092",
   "metadata": {
    "execution": {
     "iopub.execute_input": "2024-05-02T06:36:39.284966Z",
     "iopub.status.busy": "2024-05-02T06:36:39.284605Z",
     "iopub.status.idle": "2024-05-02T06:36:42.250795Z",
     "shell.execute_reply": "2024-05-02T06:36:42.249923Z"
    },
    "papermill": {
     "duration": 2.972224,
     "end_time": "2024-05-02T06:36:42.253135",
     "exception": false,
     "start_time": "2024-05-02T06:36:39.280911",
     "status": "completed"
    },
    "tags": []
   },
   "outputs": [],
   "source": [
    "# creating bag of words using countvectorizer\n",
    "from sklearn.feature_extraction.text import CountVectorizer\n",
    "cv = CountVectorizer()\n",
    "X = cv.fit_transform(data_list).toarray()\n",
    "#train test splitting\n",
    "from sklearn.model_selection import train_test_split\n",
    "x_train, x_test, y_train, y_test = train_test_split(X, y, test_size = 0.20)"
   ]
  },
  {
   "cell_type": "code",
   "execution_count": 7,
   "id": "1a8b8b43",
   "metadata": {
    "execution": {
     "iopub.execute_input": "2024-05-02T06:36:42.260066Z",
     "iopub.status.busy": "2024-05-02T06:36:42.259751Z",
     "iopub.status.idle": "2024-05-02T06:37:20.397635Z",
     "shell.execute_reply": "2024-05-02T06:37:20.396730Z"
    },
    "papermill": {
     "duration": 38.143815,
     "end_time": "2024-05-02T06:37:20.399935",
     "exception": false,
     "start_time": "2024-05-02T06:36:42.256120",
     "status": "completed"
    },
    "tags": []
   },
   "outputs": [],
   "source": [
    "#model creation and prediction\n",
    "from sklearn.naive_bayes import MultinomialNB\n",
    "model = MultinomialNB()\n",
    "model.fit(x_train, y_train)\n",
    "# prediction \n",
    "y_pred = model.predict(x_test)\n",
    "# model evaluation\n",
    "from sklearn.metrics import accuracy_score, confusion_matrix\n",
    "ac = accuracy_score(y_test, y_pred)\n",
    "cm = confusion_matrix(y_test, y_pred)\n"
   ]
  },
  {
   "cell_type": "code",
   "execution_count": 8,
   "id": "eca05b71",
   "metadata": {
    "execution": {
     "iopub.execute_input": "2024-05-02T06:37:20.408594Z",
     "iopub.status.busy": "2024-05-02T06:37:20.407841Z",
     "iopub.status.idle": "2024-05-02T06:37:21.161786Z",
     "shell.execute_reply": "2024-05-02T06:37:21.160579Z"
    },
    "papermill": {
     "duration": 0.760177,
     "end_time": "2024-05-02T06:37:21.163769",
     "exception": false,
     "start_time": "2024-05-02T06:37:20.403592",
     "status": "completed"
    },
    "tags": []
   },
   "outputs": [
    {
     "data": {
      "image/png": "[encoded data removed]",
      "text/plain": [
       "<Figure size 1500x1000 with 2 Axes>"
      ]
     },
     "metadata": {},
     "output_type": "display_data"
    }
   ],
   "source": [
    "# visualising the confusion matrix\n",
    "plt.figure(figsize=(15,10))\n",
    "sns.heatmap(cm, annot = True)\n",
    "plt.show()"
   ]
  },
  {
   "cell_type": "code",
   "execution_count": 9,
   "id": "8224e5fe",
   "metadata": {
    "execution": {
     "iopub.execute_input": "2024-05-02T06:37:21.172395Z",
     "iopub.status.busy": "2024-05-02T06:37:21.172065Z",
     "iopub.status.idle": "2024-05-02T06:37:21.186684Z",
     "shell.execute_reply": "2024-05-02T06:37:21.185773Z"
    },
    "papermill": {
     "duration": 0.024223,
     "end_time": "2024-05-02T06:37:21.191566",
     "exception": false,
     "start_time": "2024-05-02T06:37:21.167343",
     "status": "completed"
    },
    "tags": []
   },
   "outputs": [
    {
     "name": "stdout",
     "output_type": "stream",
     "text": [
      "The langauge is in English\n",
      "The langauge is in French\n",
      "The langauge is in Arabic\n",
      "The langauge is in Spanish\n",
      "The langauge is in Malayalam\n",
      "The langauge is in Russian\n"
     ]
    }
   ],
   "source": [
    "\n",
    "# function for predicting language\n",
    "def predict(text):\n",
    "    x = cv.transform([text]).toarray()\n",
    "    lang = model.predict(x)\n",
    "    lang = le.inverse_transform(lang)\n",
    "    print(\"The langauge is in\",lang[0])\n",
    "\n",
    "# English\n",
    "predict(\"This is a community based knowledge portal for data professionals.\")\n",
    "# French\n",
    "predict(\"Bonjour, comment allez-vous ? C'est un test pour la fonction de prédiction de la langue.\")  # Hello, how are you? This is a test for the language prediction function.\n",
    "# Arabic\n",
    "predict(\"مرحبا! هذا اختبار للوظيفة التنبؤية للغة. هل يمكن للنموذج تحديد اللغة العربية بشكل صحيح؟\")  # Hello! This is a test for the language prediction function. Can the model identify Arabic correctly?\n",
    "# Spanish\n",
    "predict(\"Proporciona un portal de conocimiento basado en la comunidad para profesionales de análisis y ciencia de datos.\")  # It provides a community-based knowledge portal for data science professionals.\n",
    "# Malayalam\n",
    "predict(\"കമ്മ്യൂണിറ്റി അധിഷ്ഠിത വിജ്ഞാന പോർട്ടൽ ഡാറ്റാ പ്രൊഫഷണലുകൾക്ക് നൽകുന്നു\")  # A community-based knowledge portal for data professionals.\n",
    "# Russian\n",
    "predict(\"Привет! Это тест для функции предсказания языка. Может ли модель правильно определить русский язык?\")  # Hello! This is a test for the language prediction function. Can the model identify Russian correctly?"
   ]
  }
 ],
 "metadata": {
  "kaggle": {
   "accelerator": "none",
   "dataSources": [
    {
     "datasetId": 1150837,
     "sourceId": 1929264,
     "sourceType": "datasetVersion"
    },
    {
     "datasetId": 4919177,
     "sourceId": 8282714,
     "sourceType": "datasetVersion"
    }
   ],
   "dockerImageVersionId": 30698,
   "isGpuEnabled": false,
   "isInternetEnabled": false,
   "language": "python",
   "sourceType": "notebook"
  },
  "kernelspec": {
   "display_name": "Python 3",
   "language": "python",
   "name": "python3"
  },
  "language_info": {
   "codemirror_mode": {
    "name": "ipython",
    "version": 3
   },
   "file_extension": ".py",
   "mimetype": "text/x-python",
   "name": "python",
   "nbconvert_exporter": "python",
   "pygments_lexer": "ipython3",
   "version": "3.10.13"
  },
  "papermill": {
   "default_parameters": {},
   "duration": 47.279981,
   "end_time": "2024-05-02T06:37:21.816301",
   "environment_variables": {},
   "exception": null,
   "input_path": "__notebook__.ipynb",
   "output_path": "__notebook__.ipynb",
   "parameters": {},
   "start_time": "2024-05-02T06:36:34.536320",
   "version": "2.5.0"
  }
 },
 "nbformat": 4,
 "nbformat_minor": 5
}
